{
 "cells": [
  {
   "cell_type": "code",
   "execution_count": null,
   "metadata": {},
   "outputs": [],
   "source": [
    "library(dplyr)\n",
    "library(repr)\n",
    "library(tidyverse)\n",
    "library(tidymodels)\n",
    "library(GGally)"
   ]
  },
  {
   "cell_type": "code",
   "execution_count": null,
   "metadata": {},
   "outputs": [],
   "source": [
    "algerian_fire_0 <- read.csv(url(\"https://archive.ics.uci.edu/ml/machine-learning-databases/00547/Algerian_forest_fires_dataset_UPDATE.csv\"), skip = 1)\n",
    "algerian_fire <- algerian_fire_0 %>% #set up right labels \n",
    "     select(day, month, year, Classes,Temperature, RH, Ws, Rain) %>%\n",
    "    mutate(Temperature = as.numeric(Temperature)) %>%\n",
    "    mutate(RH = as.numeric(RH)) %>%\n",
    "    mutate(Ws = as.numeric(Ws)) %>%\n",
    "    mutate(Rain = as.numeric(Rain)) \n",
    "algerian_fire$date <- as.Date(with(algerian_fire, paste(year, month, day, sep=\"-\")), \"%Y-%m-%d\") #combine three columns and set it as date\n",
    "tidy_al <- algerian_fire %>% select(date, Classes,Temperature, RH, Ws, Rain) #tidy data for the whole dataset"
   ]
  },
  {
   "cell_type": "code",
   "execution_count": null,
   "metadata": {},
   "outputs": [],
   "source": [
    "bejaia_fire <- tidy_al[c(1:122),] #select data for bejaia region\n",
    "bejaia_fire$Classes <- trimws(bejaia_fire$Classes) #remove space before and after the string\n",
    "bejaia_fire <- bejaia_fire %>% mutate(Classes = as.factor(Classes)) #set the label back to factor\n",
    "bejaia_split <- initial_split(bejaia_fire, prop = 0.8, strata = Classes)\n",
    "bejaia_train <- training(bejaia_split) #split and get training dataset\n",
    "mean_of_variable <- map_df(bejaia_train, mean, na.rm=TRUE)\n",
    "mean_of_variable"
   ]
  },
  {
   "cell_type": "code",
   "execution_count": null,
   "metadata": {},
   "outputs": [],
   "source": [
    "summary(with(bejaia_train, Classes==\"fire\"))\n",
    "nrow(bejaia_train)"
   ]
  },
  {
   "cell_type": "code",
   "execution_count": null,
   "metadata": {},
   "outputs": [],
   "source": [
    "n_of_observations <- bejaia_train$Classes %>% map_lgl(\"fire\", .default=)\n",
    "n_of_observations"
   ]
  },
  {
   "cell_type": "code",
   "execution_count": null,
   "metadata": {},
   "outputs": [],
   "source": [
    "?as_mapper()"
   ]
  },
  {
   "cell_type": "code",
   "execution_count": null,
   "metadata": {},
   "outputs": [],
   "source": [
    "tibble(\"Number of obervations\"=99, \"Fire\"=51, \"Not Fire\"=48 ) #create table for number of observations for each classes"
   ]
  },
  {
   "cell_type": "code",
   "execution_count": null,
   "metadata": {},
   "outputs": [],
   "source": [
    "#not sure if this is a good visulization\n",
    "#options(repr.plot.width = 10, repr.plot.height = 10)\n",
    "#pairs_bejaia <- bejaia_train %>%\n",
    "#  select(Temperature, RH, Ws, Rain) %>%\n",
    "#  ggpairs(ggplot2::aes(colour=bejaia_train$Classes)) \n",
    "#pairs_bejaia"
   ]
  },
  {
   "cell_type": "code",
   "execution_count": null,
   "metadata": {},
   "outputs": [],
   "source": [
    "bejaia_recipe <- recipe(Classes~Temperature+RH+Ws+Rain, data=bejaia_train) %>% #scale the data\n",
    "    step_center(all_predictors()) %>%\n",
    "    step_scale(all_predictors())\n",
    "bejaia_scaled <- bejaia_recipe %>%  \n",
    "    prep() %>%\n",
    "    bake(bejaia_train)"
   ]
  },
  {
   "cell_type": "code",
   "execution_count": null,
   "metadata": {},
   "outputs": [],
   "source": [
    "options(repr.plot.width = 8, repr.plot.height = 6)\n",
    "b_RH_plot <- bejaia_scaled %>% \n",
    "    ggplot(aes(y=Temperature,x=RH, color=Classes)) + \n",
    "    geom_point() + \n",
    "    labs(y=\"Temperature\", x=\"Standardized Relative Humidity\", colour = \"Classes\")+\n",
    "    theme(text = element_text(size = 20))\n",
    "b_Ws_plot <- bejaia_scaled %>% \n",
    "    ggplot(aes(y=Temperature, x=Ws, color=Classes)) + \n",
    "    geom_point() + \n",
    "    labs(y=\"Temperature\",x=\"Standardized Wind Spead\", colour = \"Classes\") +\n",
    "    theme(text = element_text(size = 20))\n",
    "b_RH_plot \n",
    "b_Ws_plot"
   ]
  },
  {
   "cell_type": "code",
   "execution_count": null,
   "metadata": {},
   "outputs": [],
   "source": []
  }
 ],
 "metadata": {
  "kernelspec": {
   "display_name": "R",
   "language": "R",
   "name": "ir"
  },
  "language_info": {
   "codemirror_mode": "r",
   "file_extension": ".r",
   "mimetype": "text/x-r-source",
   "name": "R",
   "pygments_lexer": "r",
   "version": "4.0.0"
  }
 },
 "nbformat": 4,
 "nbformat_minor": 4
}
