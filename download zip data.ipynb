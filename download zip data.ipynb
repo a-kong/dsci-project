{
 "cells": [
  {
   "cell_type": "code",
   "execution_count": 1,
   "metadata": {},
   "outputs": [
    {
     "name": "stderr",
     "output_type": "stream",
     "text": [
      "── \u001b[1mAttaching packages\u001b[22m ─────────────────────────────────────── tidyverse 1.3.0 ──\n",
      "\n",
      "\u001b[32m✔\u001b[39m \u001b[34mggplot2\u001b[39m 3.3.2     \u001b[32m✔\u001b[39m \u001b[34mpurrr  \u001b[39m 0.3.4\n",
      "\u001b[32m✔\u001b[39m \u001b[34mtibble \u001b[39m 3.0.3     \u001b[32m✔\u001b[39m \u001b[34mdplyr  \u001b[39m 1.0.2\n",
      "\u001b[32m✔\u001b[39m \u001b[34mtidyr  \u001b[39m 1.1.2     \u001b[32m✔\u001b[39m \u001b[34mstringr\u001b[39m 1.4.0\n",
      "\u001b[32m✔\u001b[39m \u001b[34mreadr  \u001b[39m 1.3.1     \u001b[32m✔\u001b[39m \u001b[34mforcats\u001b[39m 0.5.0\n",
      "\n",
      "Warning message:\n",
      "“package ‘ggplot2’ was built under R version 4.0.1”\n",
      "Warning message:\n",
      "“package ‘tibble’ was built under R version 4.0.2”\n",
      "Warning message:\n",
      "“package ‘tidyr’ was built under R version 4.0.2”\n",
      "Warning message:\n",
      "“package ‘dplyr’ was built under R version 4.0.2”\n",
      "── \u001b[1mConflicts\u001b[22m ────────────────────────────────────────── tidyverse_conflicts() ──\n",
      "\u001b[31m✖\u001b[39m \u001b[34mdplyr\u001b[39m::\u001b[32mfilter()\u001b[39m masks \u001b[34mstats\u001b[39m::filter()\n",
      "\u001b[31m✖\u001b[39m \u001b[34mdplyr\u001b[39m::\u001b[32mlag()\u001b[39m    masks \u001b[34mstats\u001b[39m::lag()\n",
      "\n",
      "Warning message:\n",
      "“package ‘tidymodels’ was built under R version 4.0.2”\n",
      "── \u001b[1mAttaching packages\u001b[22m ────────────────────────────────────── tidymodels 0.1.1 ──\n",
      "\n",
      "\u001b[32m✔\u001b[39m \u001b[34mbroom    \u001b[39m 0.7.0      \u001b[32m✔\u001b[39m \u001b[34mrecipes  \u001b[39m 0.1.13\n",
      "\u001b[32m✔\u001b[39m \u001b[34mdials    \u001b[39m 0.0.9      \u001b[32m✔\u001b[39m \u001b[34mrsample  \u001b[39m 0.0.7 \n",
      "\u001b[32m✔\u001b[39m \u001b[34minfer    \u001b[39m 0.5.4      \u001b[32m✔\u001b[39m \u001b[34mtune     \u001b[39m 0.1.1 \n",
      "\u001b[32m✔\u001b[39m \u001b[34mmodeldata\u001b[39m 0.0.2      \u001b[32m✔\u001b[39m \u001b[34mworkflows\u001b[39m 0.2.0 \n",
      "\u001b[32m✔\u001b[39m \u001b[34mparsnip  \u001b[39m 0.1.3      \u001b[32m✔\u001b[39m \u001b[34myardstick\u001b[39m 0.0.7 \n",
      "\n",
      "Warning message:\n",
      "“package ‘broom’ was built under R version 4.0.2”\n",
      "Warning message:\n",
      "“package ‘dials’ was built under R version 4.0.2”\n",
      "Warning message:\n",
      "“package ‘infer’ was built under R version 4.0.3”\n",
      "Warning message:\n",
      "“package ‘modeldata’ was built under R version 4.0.1”\n",
      "Warning message:\n",
      "“package ‘parsnip’ was built under R version 4.0.2”\n",
      "Warning message:\n",
      "“package ‘recipes’ was built under R version 4.0.1”\n",
      "Warning message:\n",
      "“package ‘tune’ was built under R version 4.0.2”\n",
      "Warning message:\n",
      "“package ‘workflows’ was built under R version 4.0.2”\n",
      "Warning message:\n",
      "“package ‘yardstick’ was built under R version 4.0.2”\n",
      "── \u001b[1mConflicts\u001b[22m ───────────────────────────────────────── tidymodels_conflicts() ──\n",
      "\u001b[31m✖\u001b[39m \u001b[34mscales\u001b[39m::\u001b[32mdiscard()\u001b[39m masks \u001b[34mpurrr\u001b[39m::discard()\n",
      "\u001b[31m✖\u001b[39m \u001b[34mdplyr\u001b[39m::\u001b[32mfilter()\u001b[39m   masks \u001b[34mstats\u001b[39m::filter()\n",
      "\u001b[31m✖\u001b[39m \u001b[34mrecipes\u001b[39m::\u001b[32mfixed()\u001b[39m  masks \u001b[34mstringr\u001b[39m::fixed()\n",
      "\u001b[31m✖\u001b[39m \u001b[34mdplyr\u001b[39m::\u001b[32mlag()\u001b[39m      masks \u001b[34mstats\u001b[39m::lag()\n",
      "\u001b[31m✖\u001b[39m \u001b[34myardstick\u001b[39m::\u001b[32mspec()\u001b[39m masks \u001b[34mreadr\u001b[39m::spec()\n",
      "\u001b[31m✖\u001b[39m \u001b[34mrecipes\u001b[39m::\u001b[32mstep()\u001b[39m   masks \u001b[34mstats\u001b[39m::step()\n",
      "\n",
      "------------------------------------------------------------------------------\n",
      "\n",
      "You have loaded plyr after dplyr - this is likely to cause problems.\n",
      "If you need functions from both plyr and dplyr, please load plyr first, then dplyr:\n",
      "library(plyr); library(dplyr)\n",
      "\n",
      "------------------------------------------------------------------------------\n",
      "\n",
      "\n",
      "Attaching package: ‘plyr’\n",
      "\n",
      "\n",
      "The following objects are masked from ‘package:dplyr’:\n",
      "\n",
      "    arrange, count, desc, failwith, id, mutate, rename, summarise,\n",
      "    summarize\n",
      "\n",
      "\n",
      "The following object is masked from ‘package:purrr’:\n",
      "\n",
      "    compact\n",
      "\n",
      "\n",
      "\n",
      "Attaching package: ‘gridExtra’\n",
      "\n",
      "\n",
      "The following object is masked from ‘package:dplyr’:\n",
      "\n",
      "    combine\n",
      "\n",
      "\n",
      "Registered S3 method overwritten by 'GGally':\n",
      "  method from   \n",
      "  +.gg   ggplot2\n",
      "\n"
     ]
    }
   ],
   "source": [
    "library(tidyverse)\n",
    "library(repr)\n",
    "library(tidymodels)\n",
    "library(plyr)\n",
    "library(dplyr)\n",
    "library(gridExtra)\n",
    "library(GGally)"
   ]
  },
  {
   "cell_type": "code",
   "execution_count": 2,
   "metadata": {},
   "outputs": [],
   "source": [
    "student_p <- tempfile () #Creating temporary file name inorder to download the zip folder\n",
    "download.file(\"https://archive.ics.uci.edu/ml/machine-learning-databases/00320/student.zip\", student_p)\n",
    "unzip(student_p, \"student-por.csv\") #unzip the specific file in zip folder\n",
    "unlink(student_p) #delete the temporary file \n",
    "por_data <- read.csv(\"student-por.csv\", sep = \";\") #read file as .csv with seperation of \";\""
   ]
  },
  {
   "cell_type": "code",
   "execution_count": 3,
   "metadata": {},
   "outputs": [],
   "source": [
    "student_m <- tempfile () \n",
    "download.file(\"https://archive.ics.uci.edu/ml/machine-learning-databases/00320/student.zip\", student_m)\n",
    "unzip(student_m, \"student-mat.csv\")\n",
    "unlink(student_m)\n",
    "mat_data <- read.csv(\"student-mat.csv\", sep = \";\")"
   ]
  },
  {
   "cell_type": "code",
   "execution_count": 4,
   "metadata": {},
   "outputs": [
    {
     "name": "stdout",
     "output_type": "stream",
     "text": [
      "Rows: 395\n",
      "Columns: 5\n",
      "$ G3        \u001b[3m\u001b[90m<int>\u001b[39m\u001b[23m 6, 6, 10, 15, 10, 15, 11, 6, 19, 15, 9, 12, 14, 11, 16, 14,…\n",
      "$ studytime \u001b[3m\u001b[90m<fct>\u001b[39m\u001b[23m 2, 2, 2, 3, 2, 2, 2, 2, 2, 2, 2, 3, 1, 2, 3, 1, 3, 2, 1, 1,…\n",
      "$ schoolsup \u001b[3m\u001b[90m<fct>\u001b[39m\u001b[23m yes, no, yes, no, no, no, no, yes, no, no, no, no, no, no, …\n",
      "$ internet  \u001b[3m\u001b[90m<fct>\u001b[39m\u001b[23m no, yes, yes, yes, no, yes, yes, no, yes, yes, yes, yes, ye…\n",
      "$ absences  \u001b[3m\u001b[90m<dbl>\u001b[39m\u001b[23m 6, 4, 10, 2, 4, 10, 0, 6, 0, 0, 0, 4, 2, 2, 0, 4, 6, 4, 16,…\n"
     ]
    }
   ],
   "source": [
    "mat_data_1 <- mat_data %>% select(G3, studytime, schoolsup, internet, absences) %>% #select variables will be used in analysis\n",
    "    mutate(studytime = as.factor(studytime)) %>%\n",
    "    mutate(schoolsup = as.factor(schoolsup)) %>%\n",
    "    mutate(internet = as.factor(internet)) %>%\n",
    "    mutate(absences = as.numeric(absences)) # correct the label for variables\n",
    "glimpse(mat_data_1) #show number of observations "
   ]
  },
  {
   "cell_type": "markdown",
   "metadata": {},
   "source": [
    "The number of observations for student performance in math dataset is 395 (minus the row of variable name). "
   ]
  },
  {
   "cell_type": "code",
   "execution_count": 5,
   "metadata": {},
   "outputs": [
    {
     "data": {
      "text/html": [
       "<table>\n",
       "<caption>A tibble: 6 × 3</caption>\n",
       "<thead>\n",
       "\t<tr><th scope=col>stat</th><th scope=col>sum_mat_G3</th><th scope=col>sum_mat_absences</th></tr>\n",
       "\t<tr><th scope=col>&lt;chr&gt;</th><th scope=col>&lt;table&gt;</th><th scope=col>&lt;table&gt;</th></tr>\n",
       "</thead>\n",
       "<tbody>\n",
       "\t<tr><td>Min.   </td><td> 0.00</td><td> 0.000</td></tr>\n",
       "\t<tr><td>1st Qu.</td><td> 8.00</td><td> 0.000</td></tr>\n",
       "\t<tr><td>Median </td><td>11.00</td><td> 4.000</td></tr>\n",
       "\t<tr><td>Mean   </td><td>10.49</td><td> 5.738</td></tr>\n",
       "\t<tr><td>3rd Qu.</td><td>14.00</td><td> 8.000</td></tr>\n",
       "\t<tr><td>Max.   </td><td>20.00</td><td>75.000</td></tr>\n",
       "</tbody>\n",
       "</table>\n"
      ],
      "text/latex": [
       "A tibble: 6 × 3\n",
       "\\begin{tabular}{lll}\n",
       " stat & sum\\_mat\\_G3 & sum\\_mat\\_absences\\\\\n",
       " <chr> & <table> & <table>\\\\\n",
       "\\hline\n",
       "\t Min.    &  0.00 &  0.000\\\\\n",
       "\t 1st Qu. &  8.00 &  0.000\\\\\n",
       "\t Median  & 11.00 &  4.000\\\\\n",
       "\t Mean    & 10.49 &  5.738\\\\\n",
       "\t 3rd Qu. & 14.00 &  8.000\\\\\n",
       "\t Max.    & 20.00 & 75.000\\\\\n",
       "\\end{tabular}\n"
      ],
      "text/markdown": [
       "\n",
       "A tibble: 6 × 3\n",
       "\n",
       "| stat &lt;chr&gt; | sum_mat_G3 &lt;table&gt; | sum_mat_absences &lt;table&gt; |\n",
       "|---|---|---|\n",
       "| Min.    |  0.00 |  0.000 |\n",
       "| 1st Qu. |  8.00 |  0.000 |\n",
       "| Median  | 11.00 |  4.000 |\n",
       "| Mean    | 10.49 |  5.738 |\n",
       "| 3rd Qu. | 14.00 |  8.000 |\n",
       "| Max.    | 20.00 | 75.000 |\n",
       "\n"
      ],
      "text/plain": [
       "  stat    sum_mat_G3 sum_mat_absences\n",
       "1 Min.     0.00       0.000          \n",
       "2 1st Qu.  8.00       0.000          \n",
       "3 Median  11.00       4.000          \n",
       "4 Mean    10.49       5.738          \n",
       "5 3rd Qu. 14.00       8.000          \n",
       "6 Max.    20.00      75.000          "
      ]
     },
     "metadata": {},
     "output_type": "display_data"
    }
   ],
   "source": [
    "mat_split <- initial_split(mat_data_1, prop = 0.75, strata = G3) #split training dataset, 75%\n",
    "mat_train <- training(mat_split) #training data\n",
    "stat <- c(\"Min.\",\"1st Qu.\", \"Median\", \"Mean\", \"3rd Qu.\", \"Max.\")\n",
    "sum_mat_G3 <- summary(mat_train$G3)\n",
    "sum_mat_absences <- summary(mat_train$absences)\n",
    "tibble(stat, sum_mat_G3, sum_mat_absences) #summary of two numeric variables in math training dataset"
   ]
  },
  {
   "cell_type": "code",
   "execution_count": 6,
   "metadata": {},
   "outputs": [
    {
     "name": "stdout",
     "output_type": "stream",
     "text": [
      "Rows: 649\n",
      "Columns: 5\n",
      "$ G3        \u001b[3m\u001b[90m<int>\u001b[39m\u001b[23m 11, 11, 12, 14, 13, 13, 13, 13, 17, 13, 14, 13, 12, 13, 15,…\n",
      "$ studytime \u001b[3m\u001b[90m<fct>\u001b[39m\u001b[23m 2, 2, 2, 3, 2, 2, 2, 2, 2, 2, 2, 3, 1, 2, 3, 1, 3, 2, 1, 1,…\n",
      "$ schoolsup \u001b[3m\u001b[90m<fct>\u001b[39m\u001b[23m yes, no, yes, no, no, no, no, yes, no, no, no, no, no, no, …\n",
      "$ internet  \u001b[3m\u001b[90m<fct>\u001b[39m\u001b[23m no, yes, yes, yes, no, yes, yes, no, yes, yes, yes, yes, ye…\n",
      "$ absences  \u001b[3m\u001b[90m<dbl>\u001b[39m\u001b[23m 4, 2, 6, 0, 0, 6, 0, 2, 0, 0, 2, 0, 0, 0, 0, 6, 10, 2, 2, 6…\n"
     ]
    }
   ],
   "source": [
    "por_data_1 <- por_data %>% select(G3, studytime, schoolsup, internet, absences) %>%\n",
    "    mutate(studytime = as.factor(studytime)) %>%\n",
    "    mutate(schoolsup = as.factor(schoolsup)) %>%\n",
    "    mutate(internet = as.factor(internet)) %>%\n",
    "    mutate(absences = as.numeric(absences))\n",
    "glimpse(por_data_1)"
   ]
  },
  {
   "cell_type": "markdown",
   "metadata": {},
   "source": [
    "The number of observations for student performance in Portuguese dataset is 648 (minus the row of variable name)."
   ]
  },
  {
   "cell_type": "code",
   "execution_count": 7,
   "metadata": {},
   "outputs": [
    {
     "data": {
      "text/html": [
       "<table>\n",
       "<caption>A tibble: 6 × 3</caption>\n",
       "<thead>\n",
       "\t<tr><th scope=col>stat</th><th scope=col>sum_mat_G3</th><th scope=col>sum_mat_absences</th></tr>\n",
       "\t<tr><th scope=col>&lt;chr&gt;</th><th scope=col>&lt;table&gt;</th><th scope=col>&lt;table&gt;</th></tr>\n",
       "</thead>\n",
       "<tbody>\n",
       "\t<tr><td>Min.   </td><td> 0.00</td><td> 0.000</td></tr>\n",
       "\t<tr><td>1st Qu.</td><td> 8.00</td><td> 0.000</td></tr>\n",
       "\t<tr><td>Median </td><td>11.00</td><td> 4.000</td></tr>\n",
       "\t<tr><td>Mean   </td><td>10.49</td><td> 5.738</td></tr>\n",
       "\t<tr><td>3rd Qu.</td><td>14.00</td><td> 8.000</td></tr>\n",
       "\t<tr><td>Max.   </td><td>20.00</td><td>75.000</td></tr>\n",
       "</tbody>\n",
       "</table>\n"
      ],
      "text/latex": [
       "A tibble: 6 × 3\n",
       "\\begin{tabular}{lll}\n",
       " stat & sum\\_mat\\_G3 & sum\\_mat\\_absences\\\\\n",
       " <chr> & <table> & <table>\\\\\n",
       "\\hline\n",
       "\t Min.    &  0.00 &  0.000\\\\\n",
       "\t 1st Qu. &  8.00 &  0.000\\\\\n",
       "\t Median  & 11.00 &  4.000\\\\\n",
       "\t Mean    & 10.49 &  5.738\\\\\n",
       "\t 3rd Qu. & 14.00 &  8.000\\\\\n",
       "\t Max.    & 20.00 & 75.000\\\\\n",
       "\\end{tabular}\n"
      ],
      "text/markdown": [
       "\n",
       "A tibble: 6 × 3\n",
       "\n",
       "| stat &lt;chr&gt; | sum_mat_G3 &lt;table&gt; | sum_mat_absences &lt;table&gt; |\n",
       "|---|---|---|\n",
       "| Min.    |  0.00 |  0.000 |\n",
       "| 1st Qu. |  8.00 |  0.000 |\n",
       "| Median  | 11.00 |  4.000 |\n",
       "| Mean    | 10.49 |  5.738 |\n",
       "| 3rd Qu. | 14.00 |  8.000 |\n",
       "| Max.    | 20.00 | 75.000 |\n",
       "\n"
      ],
      "text/plain": [
       "  stat    sum_mat_G3 sum_mat_absences\n",
       "1 Min.     0.00       0.000          \n",
       "2 1st Qu.  8.00       0.000          \n",
       "3 Median  11.00       4.000          \n",
       "4 Mean    10.49       5.738          \n",
       "5 3rd Qu. 14.00       8.000          \n",
       "6 Max.    20.00      75.000          "
      ]
     },
     "metadata": {},
     "output_type": "display_data"
    }
   ],
   "source": [
    "set.seed(100)\n",
    "por_split <- initial_split(por_data_1, prop = 0.6, strata = G3)\n",
    "por_train <- training(por_split) #training data\n",
    "sum_por_G3 <- summary(mat_train$G3)\n",
    "sum_por_absences <- summary(mat_train$absences)\n",
    "tibble(stat, sum_mat_G3, sum_mat_absences) #summary of two numeric variables in por training dataset"
   ]
  },
  {
   "cell_type": "code",
   "execution_count": null,
   "metadata": {},
   "outputs": [],
   "source": []
  }
 ],
 "metadata": {
  "kernelspec": {
   "display_name": "R",
   "language": "R",
   "name": "ir"
  },
  "language_info": {
   "codemirror_mode": "r",
   "file_extension": ".r",
   "mimetype": "text/x-r-source",
   "name": "R",
   "pygments_lexer": "r",
   "version": "4.0.0"
  }
 },
 "nbformat": 4,
 "nbformat_minor": 4
}
