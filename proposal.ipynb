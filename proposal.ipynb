{
 "cells": [
  {
   "cell_type": "markdown",
   "metadata": {},
   "source": [
    "# Algerian Forest Fires: How different weather conditions induce forest fires"
   ]
  },
  {
   "cell_type": "markdown",
   "metadata": {},
   "source": [
    "# Introduction"
   ]
  },
  {
   "cell_type": "markdown",
   "metadata": {},
   "source": [
    "- Provide some relevant background information on the topic so that someone unfamiliar with it will be prepared to understand the rest of your proposal\n",
    " \n",
    "    \n",
    "- Clearly state the question you will try to answer with your project\n",
    "    \n",
    "How do relative humidity, wind speed, rain, and temperature predict whether a forest fire occurred in the Bejaia region?\n",
    "    \n",
    "- Identify and describe the dataset that will be used to answer the question\n",
    " \n",
    "We will be using the Algerian Forest Fires Data Set, which primarily contains numerical data. Using the numerical values for the predictors: relative humidity, wind speed, rain, and temperature, we can analyze how all those predictors, when combined, predict whether or not a fire forest fire occurred in the Bejaia region. \n"
   ]
  },
  {
   "cell_type": "markdown",
   "metadata": {},
   "source": [
    "# Preliminary Exploratory Data Analysis"
   ]
  },
  {
   "cell_type": "markdown",
   "metadata": {},
   "source": [
    "- Demonstrate that the dataset can be read from the web into R \n",
    "- Clean and wrangle your data into a tidy format\n",
    "- **Using only training data**, summarize the data in at least one table (this is exploratory data analysis). An example of a useful table could be one that reports the number of observations in each class, the means of the predictor variables you plan to use in your analysis and how many rows have missing data. \n",
    "- **Using only training data**, visualize the data with at least one plot relevant to the analysis you plan to do (this is exploratory data analysis). An example of a useful visualization could be one that compares the distributions of each of the predictor variables you plan to use in your analysis.\n"
   ]
  },
  {
   "cell_type": "markdown",
   "metadata": {},
   "source": [
    "# Methods"
   ]
  },
  {
   "cell_type": "markdown",
   "metadata": {},
   "source": [
    "- Explain how you will conduct either your data analysis and which variables/columns you will use. \n",
    "    \n",
    "Using K-nearest neighbours classification, we will use the columns: RH (relative humidity), Ws (wind speed), Rain, and Temperature as predictors to determine if a forest fire occurred in Bejaia and Sidi-Bel Abbes regions.  \n",
    "\n",
    "- Describe at least one way that you will visualize the results\n",
    " \n",
    " We can visualize the results using a scatter plot. \n"
   ]
  },
  {
   "cell_type": "markdown",
   "metadata": {},
   "source": [
    "# Expected Outcomes and Significance"
   ]
  },
  {
   "cell_type": "markdown",
   "metadata": {},
   "source": [
    "- What do you expect to find?\n",
    "    - absences: inverse relationship\n",
    "    - extra educational support: more support = better grades?\n",
    "    - study time: limited rate of return\n",
    "    - internet access at home: internet access = better grades\n",
    "    \n",
    " When combined, lower absences, increased extra educational support, increased study time, and having access to internet at home should predict a final grade of at least 10. **DECIDE!!!!**\n",
    "    \n",
    "- What impact could such findings have?\n",
    "    \n",
    "- What future questions could this lead to?\n"
   ]
  },
  {
   "cell_type": "markdown",
   "metadata": {},
   "source": []
  }
 ],
 "metadata": {
  "kernelspec": {
   "display_name": "R",
   "language": "R",
   "name": "ir"
  },
  "language_info": {
   "codemirror_mode": "r",
   "file_extension": ".r",
   "mimetype": "text/x-r-source",
   "name": "R",
   "pygments_lexer": "r",
   "version": "4.0.0"
  }
 },
 "nbformat": 4,
 "nbformat_minor": 4
}
