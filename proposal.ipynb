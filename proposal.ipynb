{
 "cells": [
  {
   "cell_type": "markdown",
   "metadata": {},
   "source": [
    "# Student Performance: How access to resources impact students' grades"
   ]
  },
  {
   "cell_type": "markdown",
   "metadata": {},
   "source": [
    "# Introduction"
   ]
  },
  {
   "cell_type": "markdown",
   "metadata": {},
   "source": [
    "- Provide some relevant background information on the topic so that someone unfamiliar with it will be prepared to understand the rest of your proposal\n",
    " \n",
    " It is well known that there are multiple factors that can impact a student's performance at school. From family life to supplemental classes to the amount of time spent studying, those are only some of the factors that can have a significant impact on performance.   \n",
    "    \n",
    "- Clearly state the question you will try to answer with your project\n",
    "    \n",
    " How does absences, extra educational support, study time, and internet access at home predict students' final grade?   \n",
    "    \n",
    "- Identify and describe the dataset that will be used to answer the question\n",
    " \n",
    " We will be using the Student Performance Data Set, which contains a combination of categorical and numerical data. \n"
   ]
  },
  {
   "cell_type": "markdown",
   "metadata": {},
   "source": [
    "# Preliminary Exploratory Data Analysis"
   ]
  },
  {
   "cell_type": "markdown",
   "metadata": {},
   "source": [
    "- Demonstrate that the dataset can be read from the web into R \n",
    "- Clean and wrangle your data into a tidy format\n",
    "- **Using only training data**, summarize the data in at least one table (this is exploratory data analysis). An example of a useful table could be one that reports the number of observations in each class, the means of the predictor variables you plan to use in your analysis and how many rows have missing data. \n",
    "- **Using only training data**, visualize the data with at least one plot relevant to the analysis you plan to do (this is exploratory data analysis). An example of a useful visualization could be one that compares the distributions of each of the predictor variables you plan to use in your analysis.\n"
   ]
  },
  {
   "cell_type": "markdown",
   "metadata": {},
   "source": [
    "# Methods"
   ]
  },
  {
   "cell_type": "markdown",
   "metadata": {},
   "source": [
    "- Explain how you will conduct either your data analysis and which variables/columns you will use. \n",
    "    \n",
    " Using K-nearest neighbours regression, we will use the columns: absences, extra educational support, study time, and internet access at home as predictors to predict a student's final grade.  \n",
    "\n",
    "- Describe at least one way that you will visualize the results\n",
    " \n",
    " We can visualize the results using a scatter plot. \n"
   ]
  },
  {
   "cell_type": "markdown",
   "metadata": {},
   "source": [
    "# Expected Outcomes and Significance"
   ]
  },
  {
   "cell_type": "markdown",
   "metadata": {},
   "source": [
    "- What do you expect to find?\n",
    "    - absences: inverse relationship\n",
    "    - extra educational support: more support = better grades?\n",
    "    - study time: limited rate of return\n",
    "    - internet access at home: internet access = better grades\n",
    "    \n",
    " When combined, lower absences, increased extra educational support, increased study time, and having access to internet at home should predict a final grade of at least 10. **DECIDE!!!!**\n",
    "    \n",
    "- What impact could such findings have?\n",
    "    \n",
    "- What future questions could this lead to?\n"
   ]
  },
  {
   "cell_type": "markdown",
   "metadata": {},
   "source": []
  }
 ],
 "metadata": {
  "kernelspec": {
   "display_name": "R",
   "language": "R",
   "name": "ir"
  },
  "language_info": {
   "codemirror_mode": "r",
   "file_extension": ".r",
   "mimetype": "text/x-r-source",
   "name": "R",
   "pygments_lexer": "r",
   "version": "4.0.0"
  }
 },
 "nbformat": 4,
 "nbformat_minor": 4
}
